{
 "cells": [
  {
   "cell_type": "markdown",
   "id": "1e545158",
   "metadata": {},
   "source": [
    "# Aula Prática 8 (guião)\n",
    "### Semana de 7 de Novembro a 11 de Novembro de 2022\n",
    "### José Carlos Ramalho e Luís Cunha\n",
    "### Sinopsis:\n",
    "Consolidação e aferição de tudo o que foi feito até ao momento. "
   ]
  },
  {
   "cell_type": "markdown",
   "id": "9b9b5140-2b81-435e-9fc0-324437a7b453",
   "metadata": {},
   "source": [
    "### Assunto: Frações\n",
    "Vamos pensar num modelo: o que é uma fração estruturalmente?"
   ]
  },
  {
   "cell_type": "code",
   "execution_count": 4,
   "id": "5a6da5eb",
   "metadata": {},
   "outputs": [],
   "source": [
    "# Modelo duma fração\n",
    "# Fracao = (numerador.denominador)\n",
    "\n",
    "# Modelo duma lista de frações\n",
    "# ListaFracao = [Fracao]"
   ]
  },
  {
   "cell_type": "markdown",
   "id": "d477052b-e074-4a5d-ac12-85c2286a1e5f",
   "metadata": {},
   "source": [
    "### Construtor"
   ]
  },
  {
   "cell_type": "code",
   "execution_count": 1,
   "id": "33d1c7e9-22af-4473-9b21-3e7ce0fcf571",
   "metadata": {},
   "outputs": [],
   "source": [
    "def criarFracao(numerador, denominador):\n",
    "    tuplo = (numerador,denominador)\n",
    "    return tuplo\n",
    "#ou\n",
    "def criarFracao(numerador, denominador):\n",
    "    return (numerador,denominador)\n",
    "\n",
    "def verFracao(f):\n",
    "    print (str(f[0]) +'/'+ str(f[1]), end = \"\")\n",
    "    return"
   ]
  },
  {
   "cell_type": "code",
   "execution_count": 6,
   "id": "d46df3ff",
   "metadata": {},
   "outputs": [
    {
     "name": "stdout",
     "output_type": "stream",
     "text": [
      "2/3"
     ]
    }
   ],
   "source": [
    "f1 = criarFracao(2,3)\n",
    "verFracao(f1)"
   ]
  },
  {
   "cell_type": "code",
   "execution_count": 7,
   "id": "f5314e09",
   "metadata": {},
   "outputs": [
    {
     "name": "stdout",
     "output_type": "stream",
     "text": [
      "1/2   1/3   1/4   1/5   1/6   1/7   1/8   1/9   1/10   1/11   1/12   1/13   1/14   1/15   1/16   1/17   1/18   1/19   1/20   1/2   1/3   1/4   1/5   1/6   1/7   1/8   1/9   1/10   1/11   1/12   1/13   1/14   1/15   1/16   1/17   1/18   1/19   1/20   1/2   1/3   1/4   1/5   1/6   1/7   1/8   1/9   1/10   1/11   1/12   1/13   1/14   1/15   1/16   1/17   1/18   1/19   1/20   "
     ]
    }
   ],
   "source": [
    "#criar lista num/denom listaF1=[(1,2),(1,3),(1,4),...,(1,20)]\n",
    "def verFracao(f):\n",
    "    print (str(f[0]) +'/'+ str(f[1]) + \"   \", end = \"\")\n",
    "    return\n",
    "num = 1 \n",
    "listaF1 = []\n",
    "for den in range (2,21):\n",
    "    listaF1.append((num,den))\n",
    "for fracao in listaF1:\n",
    "    verFracao (fracao)\n",
    "\n",
    "#ou \n",
    "listaF1 = [(1,den) for den in range(2,21)]\n",
    "for fracao in listaF1:\n",
    "    verFracao(fracao)\n",
    "\n",
    "#ou\n",
    "def verListaFrac(lista):\n",
    "    for fracao in lista:\n",
    "        verFracao(fracao)\n",
    "\n",
    "listaF1 = [(1,den) for den in range(2,21)]\n",
    "verListaFrac(listaF1)\n",
    "\n"
   ]
  },
  {
   "cell_type": "markdown",
   "id": "f7cd0ff1",
   "metadata": {},
   "source": [
    "### Simplificação de frações"
   ]
  },
  {
   "cell_type": "code",
   "execution_count": 6,
   "id": "8b0fa08f",
   "metadata": {},
   "outputs": [],
   "source": [
    "#método da diferença: 12/16; descobrir o max divisor comum é ver se o numerador (12) é divisível pela diferença entre o denominador e o numerador (4)\n",
    "def mdc(a,b): #mdc-max dividor comum\n",
    "    if a > b:\n",
    "        if a % b == 0:\n",
    "            return b\n",
    "        else:\n",
    "            return mdc (b,a-b)\n",
    "    else:\n",
    "        return mdc(b,a)\n",
    "\n",
    "\n",
    "def simplificarFracao(f): \n",
    "    \n",
    "    return (f[0]/mdc(f[0],f[1]), f[1]/mdc(f[0],f[1]))"
   ]
  },
  {
   "cell_type": "code",
   "execution_count": 7,
   "id": "c90e0201",
   "metadata": {},
   "outputs": [
    {
     "name": "stdout",
     "output_type": "stream",
     "text": [
      "8\n"
     ]
    }
   ],
   "source": [
    "print(mdc(24,16))"
   ]
  },
  {
   "cell_type": "code",
   "execution_count": 8,
   "id": "8821d031",
   "metadata": {},
   "outputs": [
    {
     "name": "stdout",
     "output_type": "stream",
     "text": [
      "21/140   "
     ]
    }
   ],
   "source": [
    "verFracao(criarFracao(21, 140))"
   ]
  },
  {
   "cell_type": "markdown",
   "id": "d52f012f",
   "metadata": {},
   "source": [
    "## Operações sobre frações"
   ]
  },
  {
   "cell_type": "code",
   "execution_count": 9,
   "id": "96ba280b",
   "metadata": {},
   "outputs": [
    {
     "name": "stdout",
     "output_type": "stream",
     "text": [
      "29.0/21.0   "
     ]
    }
   ],
   "source": [
    "def somarFrac(f1, f2):\n",
    "    return simplificarFracao((f1[0]*f2[1]+f1[1]*f2[0], f1[1]*f2[1]))\n",
    "\n",
    "\n",
    "def criarFracao(numerador, denominador):\n",
    "    return (numerador,denominador)\n",
    "\n",
    "def verFracao(f):\n",
    "    print (str(f[0]) +'/'+ str(f[1]) + \"   \", end = \"\")\n",
    "\n",
    "def simplificarFracao(f): \n",
    "    \n",
    "    return (f[0]/mdc(f[0],f[1]), f[1]/mdc(f[0],f[1]))\n",
    "    \n",
    "f1 = criarFracao(2,3)\n",
    "f2 = criarFracao(5,7)\n",
    "verFracao(somarFrac(f1,f2))"
   ]
  },
  {
   "cell_type": "code",
   "execution_count": 10,
   "id": "a0198bce",
   "metadata": {},
   "outputs": [
    {
     "name": "stdout",
     "output_type": "stream",
     "text": [
      "[(7, 13), (2, 6), (7, 12), (8, 15), (2, 13), (2, 9), (6, 6), (6, 16), (4, 5), (7, 2), (6, 12), (9, 12), (6, 13), (3, 14), (8, 12), (9, 11), (3, 9), (1, 19), (9, 8)]\n"
     ]
    }
   ],
   "source": [
    "listaFrac = [f1, f2, criarFracao(125,1000), (8,12)]\n",
    "listaFrac2 = []\n",
    "import random\n",
    "for i in range(1,20):\n",
    "    n = random.randrange(1, 10)\n",
    "    d = random.randrange(2, 20)\n",
    "    listaFrac2.append(criarFracao(n,d))\n",
    "print(listaFrac2)"
   ]
  },
  {
   "cell_type": "markdown",
   "id": "e83e4eae",
   "metadata": {},
   "source": [
    "### Soma uma lista de frações"
   ]
  },
  {
   "cell_type": "code",
   "execution_count": null,
   "id": "402d83f0",
   "metadata": {},
   "outputs": [],
   "source": [
    "def somarListaFrac(lista):\n",
    "    res = lista[0]\n",
    "    for f in lista[1:]:\n",
    "        res = somarFrac(res,f)\n",
    "    return res"
   ]
  },
  {
   "cell_type": "markdown",
   "id": "a88929cc",
   "metadata": {},
   "source": [
    "### Multiplica 2 frações"
   ]
  },
  {
   "cell_type": "code",
   "execution_count": null,
   "id": "519c5358",
   "metadata": {},
   "outputs": [],
   "source": [
    "def multFrac(f1, f2):\n",
    "    return simplificarFracao(f1[0]*f2[0], f1[1]*f2[1])"
   ]
  },
  {
   "cell_type": "code",
   "execution_count": null,
   "id": "82e5c38d",
   "metadata": {},
   "outputs": [],
   "source": [
    "verFracao(multFrac((2,3),(7,8)))"
   ]
  },
  {
   "cell_type": "markdown",
   "id": "fcd5b5d6",
   "metadata": {},
   "source": [
    "### Guardar uma lista de frações num ficheiro"
   ]
  },
  {
   "cell_type": "code",
   "execution_count": null,
   "id": "2840f9b2",
   "metadata": {},
   "outputs": [],
   "source": [
    "def gravaListaFrac(fnome, listaF):\n",
    "    f = open(fnome, 'w')\n",
    "    for fracao in listaF:\n",
    "        f.write(str(fracao[0]) + '/' + str(fracao[1]) + '\\n')\n",
    "    f.close() \n",
    "\n",
    "    return "
   ]
  },
  {
   "cell_type": "code",
   "execution_count": null,
   "id": "210d4228",
   "metadata": {},
   "outputs": [
    {
     "ename": "NameError",
     "evalue": "name 'listaFrac2' is not defined",
     "output_type": "error",
     "traceback": [
      "\u001b[1;31m---------------------------------------------------------------------------\u001b[0m",
      "\u001b[1;31mNameError\u001b[0m                                 Traceback (most recent call last)",
      "Cell \u001b[1;32mIn [2], line 1\u001b[0m\n\u001b[1;32m----> 1\u001b[0m gravaListaFrac(\u001b[39m\"\u001b[39m\u001b[39mfracoes.txt\u001b[39m\u001b[39m\"\u001b[39m, listaFrac2)\n",
      "\u001b[1;31mNameError\u001b[0m: name 'listaFrac2' is not defined"
     ]
    }
   ],
   "source": [
    "gravaListaFrac(\"fracoes.txt\", listaFrac2)"
   ]
  },
  {
   "cell_type": "markdown",
   "id": "0664fcdc",
   "metadata": {},
   "source": [
    "### Recuperar uma lista de frações dum ficheiro"
   ]
  },
  {
   "cell_type": "code",
   "execution_count": null,
   "id": "82aece6e",
   "metadata": {},
   "outputs": [],
   "source": [
    "def carregaListaFrac(fnome):\n",
    "    f = open(fnome) # em modod de omissão o fiecehiro abre em modo de leitura\n",
    "    listaRes= []\n",
    "    for linha in f:\n",
    "        partes = linha[:-1].split('/')\n",
    "        listaRes.append((int(partes[0], int(partes[1]))))\n",
    "    return listaRes"
   ]
  },
  {
   "cell_type": "code",
   "execution_count": null,
   "id": "d128a06a",
   "metadata": {},
   "outputs": [
    {
     "ename": "FileNotFoundError",
     "evalue": "[Errno 2] No such file or directory: 'fracoes.txt'",
     "output_type": "error",
     "traceback": [
      "\u001b[1;31m---------------------------------------------------------------------------\u001b[0m",
      "\u001b[1;31mFileNotFoundError\u001b[0m                         Traceback (most recent call last)",
      "Cell \u001b[1;32mIn [5], line 1\u001b[0m\n\u001b[1;32m----> 1\u001b[0m listaFrac3\u001b[39m=\u001b[39m carregaListaFrac(\u001b[39m\"\u001b[39m\u001b[39mfracoes.txt\u001b[39m\u001b[39m\"\u001b[39m)\n\u001b[0;32m      2\u001b[0m verListaFrac(listaFrac3)\n",
      "Cell \u001b[1;32mIn [4], line 2\u001b[0m, in \u001b[0;36mcarregaListaFrac\u001b[1;34m(fnome)\u001b[0m\n\u001b[0;32m      1\u001b[0m \u001b[39mdef\u001b[39;00m \u001b[39mcarregaListaFrac\u001b[39m(fnome):\n\u001b[1;32m----> 2\u001b[0m     f \u001b[39m=\u001b[39m \u001b[39mopen\u001b[39;49m(fnome) \u001b[39m# em modod de omissão o fiecehiro abre em modo de leitura\u001b[39;00m\n\u001b[0;32m      3\u001b[0m     listaRes\u001b[39m=\u001b[39m []\n\u001b[0;32m      4\u001b[0m     \u001b[39mfor\u001b[39;00m linha \u001b[39min\u001b[39;00m f:\n",
      "\u001b[1;31mFileNotFoundError\u001b[0m: [Errno 2] No such file or directory: 'fracoes.txt'"
     ]
    }
   ],
   "source": [
    "listaFrac3= carregaListaFrac(\"fracoes.txt\")\n",
    "verListaFrac(listaFrac3)"
   ]
  },
  {
   "cell_type": "markdown",
   "id": "4193a91b",
   "metadata": {},
   "source": [
    "### TPC8: Teste de aferição\n",
    "\n",
    "Resolva os problemas apresentados a seguir."
   ]
  },
  {
   "cell_type": "markdown",
   "id": "4e758271",
   "metadata": {},
   "source": [
    "### tpc1.a) Recebe duas strings, _s1_ e _s2_, e retorna o comprimento da substring inicial de _s1_ que não contem nenhum caráter de _s2_:"
   ]
  },
  {
   "cell_type": "code",
   "execution_count": 19,
   "id": "f63d4a6c",
   "metadata": {},
   "outputs": [
    {
     "name": "stdout",
     "output_type": "stream",
     "text": [
      "4\n"
     ]
    }
   ],
   "source": [
    "def inicDiferente(s1,s2):\n",
    "    res = 0\n",
    "    for letra in s1[1:]:\n",
    "        if letra not in s2[1:]:\n",
    "            res = res + 1 \n",
    "        else:\n",
    "            res = res \n",
    "    return res \n",
    "\n",
    "print(inicDiferente(\"Está um bom dia...\", \"Hoje é um dia alegre.\"))\n",
    "\n",
    "# resultado esperado: 4"
   ]
  },
  {
   "cell_type": "markdown",
   "id": "28cb3dc4",
   "metadata": {},
   "source": [
    "### tpc1.b) Recebe um parâmetro _n_ e lê _n_ números inteiros; no fim retorna quantos dos números lidos são superiores à média dos números lidos:"
   ]
  },
  {
   "cell_type": "code",
   "execution_count": 38,
   "id": "4458c7bc",
   "metadata": {},
   "outputs": [
    {
     "name": "stdout",
     "output_type": "stream",
     "text": [
      "último 5\n",
      "2\n"
     ]
    }
   ],
   "source": [
    "def acimaMedia(n):\n",
    "    res = 0\n",
    "    ultimo = int(input(\"Introduza o último valor.\"))\n",
    "    print (\"último\", ultimo)\n",
    "    n = int(input(\"Introduza um valor.\"))\n",
    "    soma = n\n",
    "    lista = []\n",
    "    while (n != ultimo):\n",
    "        soma = soma + n\n",
    "        lista.append(n)\n",
    "        n = int(input(\"Introduza um valor.\"))\n",
    "    media = soma / len (lista)\n",
    "    i = 0\n",
    "    for i in range(len(lista)):\n",
    "        if lista[i] > media:\n",
    "            res = res + 1\n",
    "    return res\n",
    "\n",
    "print(acimaMedia(5))"
   ]
  },
  {
   "cell_type": "markdown",
   "id": "e6db31d7",
   "metadata": {},
   "source": [
    "### tpc1.c) Faz o merge de duas listas ordenadas, retornando uma lista ordenada com os elementos das duas listas (__não podes usar nenhuma função de ordenação do Python__):"
   ]
  },
  {
   "cell_type": "code",
   "execution_count": 20,
   "id": "2b5ad344",
   "metadata": {},
   "outputs": [
    {
     "data": {
      "text/plain": [
       "[1, 2, 3, 4, 6, 7, 9, 12]"
      ]
     },
     "execution_count": 20,
     "metadata": {},
     "output_type": "execute_result"
    }
   ],
   "source": [
    "def merge(l1, l2):\n",
    "    l1 = l1+l2\n",
    "    l1.sort()\n",
    "\n",
    "    return l1\n",
    "\n",
    "merge([1,2,6,9], [3,4,7,12])\n",
    "\n",
    "# Resultado esperado: [1,2,3,4,6,7,9,12]"
   ]
  },
  {
   "cell_type": "code",
   "execution_count": 30,
   "id": "826a60cb",
   "metadata": {},
   "outputs": [
    {
     "name": "stdout",
     "output_type": "stream",
     "text": [
      "[1, 2, 6, 9, 3, 4, 7, 12]\n",
      "[1] 0 1\n",
      "[1, 2] 1 2\n",
      "[1, 2, 6] 2 6\n",
      "[1, 2, 6, 9] 3 9\n",
      "[1, 2, 3, 6, 9] 2 3\n",
      "[1, 2, 3, 4, 6, 9] 3 4\n",
      "[1, 2, 3, 4, 6, 7, 9] 5 7\n",
      "[1, 2, 3, 4, 6, 7, 9, 12] 7 12\n"
     ]
    },
    {
     "data": {
      "text/plain": [
       "[1, 2, 3, 4, 6, 7, 9, 12]"
      ]
     },
     "execution_count": 30,
     "metadata": {},
     "output_type": "execute_result"
    }
   ],
   "source": [
    "def merge(l1, l2):\n",
    "    lista = []\n",
    "    l1 = l1 + l2\n",
    "    print(l1)\n",
    "    for e in l1:\n",
    "        i = 0\n",
    "        while i < len(lista) and e > lista[i]:\n",
    "            i += 1\n",
    "        lista.insert(i,e)\n",
    "        print(lista,i,e)\n",
    "\n",
    "    return lista\n",
    "\n",
    "merge([1,2,6,9], [3,4,7,12])\n",
    "\n",
    "# Resultado esperado: [1,2,3,4,6,7,9,12]"
   ]
  },
  {
   "cell_type": "markdown",
   "id": "6698b337",
   "metadata": {},
   "source": [
    "### tpc1.d) Recebe o nome de dois ficheiros de texto, _f1_ e _f2_, e indica se são iguais (__True__) no seu conteúdo ou se são diferentes (__False__):"
   ]
  },
  {
   "cell_type": "code",
   "execution_count": 34,
   "id": "54cef309",
   "metadata": {},
   "outputs": [],
   "source": [
    "def figuais(f1, f2):\n",
    "    iguais = True\n",
    "    if f1[1:] == f2[1:]:\n",
    "        iguais = True\n",
    "    else:\n",
    "        iguais = False\n",
    "    return iguais\n",
    "#print(figuais(\"texto1.txt\", \"texto1.txt\"))\n",
    "#print(figuais(\"texto1.txt\", \"texto2.txt\"))"
   ]
  },
  {
   "cell_type": "markdown",
   "id": "7cd572fc",
   "metadata": {},
   "source": [
    "## Questão 2: Gestão de uma Cinemateca\n",
    "\n",
    "Analise as seguintes estruturas de dados que materializam o modelo de uma cinemateca:"
   ]
  },
  {
   "cell_type": "code",
   "execution_count": 28,
   "id": "76e9e621",
   "metadata": {},
   "outputs": [],
   "source": [
    "# Cinemateca = [Filme]\n",
    "# Pub = (Título, Ano, Elenco, Géneros)\n",
    "# Título = String\n",
    "# Ano = Int\n",
    "# Elenco = [Ator]\n",
    "# Ator = String\n",
    "# Géneros = [Género]\n",
    "# Género = String\n",
    "Filme1 = (\"Meet the Parents\", 2000, [\"Ben Stiller\",\"Robert De Niro\",\n",
    "      \"Blythe Danner\",\"Teri Polo\",\"Owen Wilson\"], [\"Comedy\", \"Drama\"])\n",
    "Filme2 = (\"Men of Honor\", 2000, [\"Robert De Niro\",\"Cuba Gooding, Jr.\",\n",
    "      \"Charlize Theron\"], [\"Biography\", \"Drama\", \"Thriller\"])\n",
    "Filme3 = (\"Analyze That\", 2002, [\"Robert De Niro\",\"Billy Crystal\",\n",
    "      \"Lisa Kudrow\"], [\"Comedy\"])\n",
    "CineUM = [Filme1, Filme2, Filme3]\n",
    "\n",
    "def filmes (cinemateca):\n",
    "      cinemateca = []\n",
    "      i = 0 \n",
    "      for i in range(len(CineUM[i][0])):\n",
    "            cinemateca.append(e)\n",
    "      return cinemateca \n"
   ]
  },
  {
   "cell_type": "markdown",
   "id": "89afc758",
   "metadata": {},
   "source": [
    " e especifique funções que calculem o que se descreve a seguir:"
   ]
  },
  {
   "cell_type": "markdown",
   "id": "2156a0c8",
   "metadata": {},
   "source": [
    "### tpc2.a)  Devolve uma lista dos atores participantes nos filmes armazenados, ordenada alfabeticamente e sem repetições:"
   ]
  },
  {
   "cell_type": "code",
   "execution_count": 39,
   "id": "8a5a2a41",
   "metadata": {},
   "outputs": [
    {
     "name": "stdout",
     "output_type": "stream",
     "text": [
      "['Ben Stiller', 'Billy Crystal', 'Blythe Danner', 'Charlize Theron', 'Cuba Gooding, Jr.', 'Lisa Kudrow', 'Owen Wilson', 'Robert De Niro', 'Teri Polo']\n"
     ]
    }
   ],
   "source": [
    "#ver\n",
    "def atores(cinemateca):\n",
    "    lista = []\n",
    "    i = 0\n",
    "    for i in range(len(CineUM)):\n",
    "        for e in CineUM[i][2]:\n",
    "            if e in lista:\n",
    "                lista = lista\n",
    "            else:\n",
    "                lista.append(e)\n",
    "            \n",
    "\n",
    "\n",
    "    lista.sort()\n",
    "    return lista\n",
    "\n",
    "print(atores(CineUM))\n",
    "# Resultado esperado: ['Ben Stiller', 'Billy Crystal', 'Blythe Danner', 'Charlize Theron', 'Cuba Gooding, Jr.', 'Lisa Kudrow', 'Owen Wilson', 'Robert De Niro', 'Teri Polo']"
   ]
  },
  {
   "cell_type": "markdown",
   "id": "12f9126b",
   "metadata": {},
   "source": [
    "### tpc2.b)  Devolve uma lista de todos os títulos dos filmes, em ordem alfabética, e de um determinado género passado como argumento:"
   ]
  },
  {
   "cell_type": "code",
   "execution_count": 29,
   "id": "d9dfe30a",
   "metadata": {},
   "outputs": [
    {
     "name": "stdout",
     "output_type": "stream",
     "text": [
      "['Analyze That', 'Meet the Parents']\n"
     ]
    }
   ],
   "source": [
    "def listarPorGenero(cinemateca, genero):\n",
    "    lista = []\n",
    "    i = 0\n",
    "    for i in range(len(cinemateca)):\n",
    "        for e in cinemateca[i][3]:\n",
    "            if e == genero:\n",
    "                lista.append(cinemateca[i][0])\n",
    "        \n",
    "    lista.sort()\n",
    "\n",
    "    return lista\n",
    "\n",
    "\n",
    "\n",
    "print(listarPorGenero(CineUM, \"Comedy\"))\n",
    "# Resultado esperado: ['Analyze That', 'Meet the Parents']"
   ]
  },
  {
   "cell_type": "markdown",
   "id": "1a0f760b",
   "metadata": {},
   "source": [
    "### tpc2.c)  Devolve o título do filme com o maior elenco:"
   ]
  },
  {
   "cell_type": "code",
   "execution_count": 32,
   "id": "a00c85e3",
   "metadata": {},
   "outputs": [
    {
     "name": "stdout",
     "output_type": "stream",
     "text": [
      "Meet the Parents\n"
     ]
    }
   ],
   "source": [
    "def maiorElenco(cinemateca):\n",
    "    max = 0\n",
    "    i = 0\n",
    "    for i in range(len(cinemateca)):\n",
    "        n = len(cinemateca[i][2])\n",
    "        if n >max:\n",
    "            max = n\n",
    "    for i in range(len(cinemateca)):\n",
    "        if max == len(cinemateca[i][2]):\n",
    "            titulo = cinemateca[i][0]\n",
    "\n",
    "    return titulo\n",
    "\n",
    "print(maiorElenco(CineUM))\n",
    "# Resultado esperado: Meet the Parents"
   ]
  },
  {
   "cell_type": "markdown",
   "id": "65061d0a",
   "metadata": {},
   "source": [
    "### tpc2.d)  Calcula a distribuição de filmes por Género:"
   ]
  },
  {
   "cell_type": "code",
   "execution_count": 33,
   "id": "dc1adabc",
   "metadata": {},
   "outputs": [],
   "source": [
    "def filmePorGenero( cinemateca ):\n",
    "    dici = {}\n",
    "    for i in range(len(cinemateca[i][3])):\n",
    "        for e in cinemateca[i][3]:\n",
    "            if e not in dici:\n",
    "                dici[e]= 1\n",
    "            else:\n",
    "                dici[e]+=1\n",
    "        \n",
    "    return dici"
   ]
  },
  {
   "cell_type": "markdown",
   "id": "de46a635",
   "metadata": {},
   "source": [
    "### tpc2.e)  Represente num gráfico de barras a distribuição calculada na alínea anterior (pode usar o material que entender das aulas):"
   ]
  },
  {
   "cell_type": "code",
   "execution_count": 35,
   "id": "4118730d",
   "metadata": {},
   "outputs": [
    {
     "ename": "ModuleNotFoundError",
     "evalue": "No module named 'mathplotlib'",
     "output_type": "error",
     "traceback": [
      "\u001b[1;31m---------------------------------------------------------------------------\u001b[0m",
      "\u001b[1;31mModuleNotFoundError\u001b[0m                       Traceback (most recent call last)",
      "Cell \u001b[1;32mIn [35], line 1\u001b[0m\n\u001b[1;32m----> 1\u001b[0m \u001b[39mimport\u001b[39;00m \u001b[39mmathplotlib\u001b[39;00m\u001b[39m.\u001b[39;00m\u001b[39mpy\u001b[39;00m \u001b[39mas\u001b[39;00m \u001b[39mplt\u001b[39;00m\n\u001b[0;32m      3\u001b[0m \u001b[39mdef\u001b[39;00m \u001b[39mgrafico\u001b[39m (CineUM):\n\u001b[0;32m      4\u001b[0m     dici \u001b[39m=\u001b[39m filmePorGenero(CineUM)\n",
      "\u001b[1;31mModuleNotFoundError\u001b[0m: No module named 'mathplotlib'"
     ]
    }
   ],
   "source": [
    "import mathplotlib.py as plt\n",
    "\n",
    "def grafico (CineUM):\n",
    "    dici = filmePorGenero(CineUM)\n",
    "    x= dici.keys()\n",
    "    y = dici.values()\n",
    "    plt.bar(x,y)\n",
    "    plt.xlabel(\"Género\")\n",
    "    plt.ylabel(\"Frequência\")\n",
    "    plt.title(\"Distribuição por Género\")\n",
    "    plt.show()\n",
    "\n",
    "\n",
    "print(grafico(CineUM))\n"
   ]
  }
 ],
 "metadata": {
  "kernelspec": {
   "display_name": "Python 3.10.8 64-bit",
   "language": "python",
   "name": "python3"
  },
  "language_info": {
   "codemirror_mode": {
    "name": "ipython",
    "version": 3
   },
   "file_extension": ".py",
   "mimetype": "text/x-python",
   "name": "python",
   "nbconvert_exporter": "python",
   "pygments_lexer": "ipython3",
   "version": "3.10.8"
  },
  "vscode": {
   "interpreter": {
    "hash": "11bc3faa42291987dff8047a7fe728de8bffd01e5e426b1fc111590146fa91bf"
   }
  }
 },
 "nbformat": 4,
 "nbformat_minor": 5
}
